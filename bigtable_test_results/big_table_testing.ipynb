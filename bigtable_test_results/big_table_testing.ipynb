{
 "cells": [
  {
   "cell_type": "code",
   "execution_count": 1,
   "metadata": {},
   "outputs": [
    {
     "data": {
      "text/html": [
       "        <script type=\"text/javascript\">\n",
       "        window.PlotlyConfig = {MathJaxConfig: 'local'};\n",
       "        if (window.MathJax) {MathJax.Hub.Config({SVG: {font: \"STIX-Web\"}});}\n",
       "        if (typeof require !== 'undefined') {\n",
       "        require.undef(\"plotly\");\n",
       "        requirejs.config({\n",
       "            paths: {\n",
       "                'plotly': ['https://cdn.plot.ly/plotly-latest.min']\n",
       "            }\n",
       "        });\n",
       "        require(['plotly'], function(Plotly) {\n",
       "            window._Plotly = Plotly;\n",
       "        });\n",
       "        }\n",
       "        </script>\n",
       "        "
      ]
     },
     "metadata": {},
     "output_type": "display_data"
    }
   ],
   "source": [
    "# Data manipulation\n",
    "import pandas as pd\n",
    "import numpy as np\n",
    "# Models\n",
    "from sklearn.linear_model import LogisticRegression\n",
    "from sklearn.tree import DecisionTreeClassifier\n",
    "\n",
    "# Visualizations\n",
    "import plotly\n",
    "import plotly.graph_objs as go\n",
    "import plotly.offline as ply\n",
    "plotly.offline.init_notebook_mode(connected=True)\n",
    "\n",
    "import matplotlib.pyplot as plt\n",
    "import seaborn as sns\n",
    "\n",
    "import pydash as _\n",
    "import datetime\n",
    "import time\n",
    "import os\n",
    "import sys\n",
    "import warnings\n",
    "warnings.filterwarnings('ignore')\n",
    "from google.cloud import bigquery\n",
    "import json"
   ]
  },
  {
   "cell_type": "code",
   "execution_count": 2,
   "metadata": {},
   "outputs": [],
   "source": [
    "def find_latency(row):\n",
    "    return row['req_end'] - row['req_start']"
   ]
  },
  {
   "cell_type": "code",
   "execution_count": 25,
   "metadata": {},
   "outputs": [
    {
     "name": "stdout",
     "output_type": "stream",
     "text": [
      "\n",
      "For 2 threads:\n",
      "Avg rps: 592.88\n",
      "Avg latency: 3.364930508703279\n",
      "\n",
      "For 4 threads:\n",
      "Avg rps: 1200.4666666666667\n",
      "Avg latency: 3.3262869995001942\n",
      "\n",
      "For 8 threads:\n",
      "Avg rps: 2187.1266666666666\n",
      "Avg latency: 3.6518445814752383\n",
      "\n",
      "For 16 threads:\n",
      "Avg rps: 2826.56\n",
      "Avg latency: 5.652493962036303\n",
      "\n",
      "For 32 threads:\n",
      "Avg rps: 3783.0733333333333\n",
      "Avg latency: 8.446778721357063\n",
      "\n",
      "For 64 threads:\n",
      "Avg rps: 4245.956666666667\n",
      "Avg latency: 15.067179206570643\n",
      "\n",
      "For 128 threads:\n",
      "Avg rps: 5023.5633333333335\n",
      "Avg latency: 25.477899817460248\n",
      "\n",
      "For 256 threads:\n",
      "Avg rps: 5026.606666666667\n",
      "Avg latency: 50.929048224713554\n"
     ]
    }
   ],
   "source": [
    "result_write = ['placeholder']\n",
    "for i in range(1, 9):\n",
    "    thread_cnt = 2**i\n",
    "    result_write.append(pd.read_csv(f'learnjava/bigtable_test_results/write_tests/result_write_{thread_cnt}.csv'))\n",
    "    result_write[i]['latency'] = result_write[i].apply(lambda row: find_latency(row), axis=1)\n",
    "    print(f'\\nFor {thread_cnt} threads:')\n",
    "    print(f'Avg rps: {len(result_write[i])/300}')\n",
    "    print(f'Avg latency: {result_write[i][\"latency\"].mean()}')"
   ]
  },
  {
   "cell_type": "code",
   "execution_count": 27,
   "metadata": {},
   "outputs": [],
   "source": [
    "write_x = []\n",
    "write_y = []\n",
    "for i in range(1, len(result_write)):\n",
    "    write_x.append(len(result_write[i])/300)\n",
    "    write_y.append(result_write[i][\"latency\"].mean())"
   ]
  },
  {
   "cell_type": "code",
   "execution_count": 29,
   "metadata": {},
   "outputs": [
    {
     "data": {
      "image/png": "[encoded data removed]",
      "text/plain": [
       "<Figure size 432x288 with 1 Axes>"
      ]
     },
     "metadata": {
      "needs_background": "light"
     },
     "output_type": "display_data"
    }
   ],
   "source": [
    "plt.plot(write_x, write_y)\n",
    "plt.xlabel('RPS')\n",
    "plt.ylabel('Latency (ms)')\n",
    "plt.title('Latency vs RPS (for Writing)')\n",
    "plt.show()"
   ]
  },
  {
   "cell_type": "code",
   "execution_count": 26,
   "metadata": {},
   "outputs": [
    {
     "name": "stdout",
     "output_type": "stream",
     "text": [
      "\n",
      "For 2 threads:\n",
      "Avg rps: 724.5866666666667\n",
      "Avg latency: 2.7510718754600325\n",
      "\n",
      "For 4 threads:\n",
      "Avg rps: 1464.7533333333333\n",
      "Avg latency: 2.724383627732542\n",
      "\n",
      "For 8 threads:\n",
      "Avg rps: 2228.97\n",
      "Avg latency: 3.5829568515203585\n",
      "\n",
      "For 16 threads:\n",
      "Avg rps: 2852.3733333333334\n",
      "Avg latency: 5.59922964735799\n",
      "\n",
      "For 32 threads:\n",
      "Avg rps: 3470.5866666666666\n",
      "Avg latency: 9.213446141670573\n",
      "\n",
      "For 64 threads:\n",
      "Avg rps: 3871.1666666666665\n",
      "Avg latency: 16.52277607956258\n",
      "\n",
      "For 128 threads:\n",
      "Avg rps: 4070.43\n",
      "Avg latency: 31.438512229256695\n"
     ]
    }
   ],
   "source": [
    "result_read = ['placeholder']\n",
    "for i in range(1, 8):\n",
    "    thread_cnt = 2**i\n",
    "    result_read.append(pd.read_csv(f'learnjava/bigtable_test_results/read_tests/result_read_{thread_cnt}.csv'))\n",
    "    result_read[i]['latency'] = result_read[i].apply(lambda row: find_latency(row), axis=1)\n",
    "    print(f'\\nFor {thread_cnt} threads:')\n",
    "    print(f'Avg rps: {len(result_read[i])/300}')\n",
    "    print(f'Avg latency: {result_read[i][\"latency\"].mean()}')"
   ]
  },
  {
   "cell_type": "code",
   "execution_count": 30,
   "metadata": {},
   "outputs": [],
   "source": [
    "read_x = []\n",
    "read_y = []\n",
    "for i in range(1, len(result_read)):\n",
    "    read_x.append(len(result_read[i])/300)\n",
    "    read_y.append(result_read[i][\"latency\"].mean())"
   ]
  },
  {
   "cell_type": "code",
   "execution_count": 31,
   "metadata": {},
   "outputs": [
    {
     "data": {
      "image/png": "[encoded data removed]",
      "text/plain": [
       "<Figure size 432x288 with 1 Axes>"
      ]
     },
     "metadata": {
      "needs_background": "light"
     },
     "output_type": "display_data"
    }
   ],
   "source": [
    "plt.plot(read_x, read_y)\n",
    "plt.xlabel('RPS')\n",
    "plt.ylabel('Latency (ms)')\n",
    "plt.title('Latency vs RPS (for reading)')\n",
    "plt.show()"
   ]
  }
 ],
 "metadata": {
  "kernelspec": {
   "display_name": "Python 3",
   "language": "python",
   "name": "python3"
  },
  "language_info": {
   "codemirror_mode": {
    "name": "ipython",
    "version": 3
   },
   "file_extension": ".py",
   "mimetype": "text/x-python",
   "name": "python",
   "nbconvert_exporter": "python",
   "pygments_lexer": "ipython3",
   "version": "3.7.3"
  }
 },
 "nbformat": 4,
 "nbformat_minor": 4
}
